{
  "metadata": {
    "kernelspec": {
      "name": "python3",
      "display_name": "Python 3 (ipykernel)",
      "language": "python"
    },
    "language_info": {
      "name": "python",
      "version": "3.8.10",
      "mimetype": "text/x-python",
      "codemirror_mode": {
        "name": "ipython",
        "version": 3
      },
      "pygments_lexer": "ipython3",
      "nbconvert_exporter": "python",
      "file_extension": ".py"
    },
    "colab": {
      "provenance": [],
      "include_colab_link": true
    }
  },
  "nbformat_minor": 0,
  "nbformat": 4,
  "cells": [
    {
      "cell_type": "markdown",
      "metadata": {
        "id": "view-in-github",
        "colab_type": "text"
      },
      "source": [
        "<a href=\"https://colab.research.google.com/github/pleasewaitinthequeue/GoogleColab/blob/main/F_Strings.ipynb\" target=\"_parent\"><img src=\"https://colab.research.google.com/assets/colab-badge.svg\" alt=\"Open In Colab\"/></a>"
      ]
    },
    {
      "cell_type": "markdown",
      "source": [
        "# f-strings, a discussion\n",
        "\n",
        "[PEP-498](https://peps.python.org/pep-0498/)\n",
        "\n",
        "* Python has a number of ways to perform **string interpolation**\n",
        "* Each method has advantages and disadvantages for the programmer *(the user in this case)*\n",
        "* Our goal is to talk through each of these examples to understand why **PEP-498** or f-strings help us\n",
        "\n",
        "**interpolation** *is a math term broadly described as a type of estimation or construction, but in this context we can assume it has something to do with the construction, evaluation, and creation of strings.*"
      ],
      "metadata": {
        "azdata_cell_guid": "67e228a6-53aa-4c47-80b5-26162824c155",
        "id": "Z6mLuosjU_bG"
      }
    },
    {
      "cell_type": "markdown",
      "source": [
        "## Gluing strings together the old fashioned way\n",
        "\n",
        "In the example below, a **+** sign is used to concatenate strings.  This is a common programming symbol that you may find in other languages such as:  BASIC, C++, C#, Go, Java, JavaScript, **Python**, Ruby, Rust, Scala, Swift, and Windows Powershell."
      ],
      "metadata": {
        "azdata_cell_guid": "294a2ff4-0ab7-434e-bf41-6f25b07e325c",
        "id": "KylyqKfbU_bI"
      }
    },
    {
      "cell_type": "code",
      "source": [
        "import datetime\n",
        "\n",
        "def fullname(firstname='', lastname=''):\n",
        "    return firstname + ' ' + lastname\n",
        "\n",
        "# traditional string interpolation\n",
        "firstname = 'Fred'\n",
        "lastname = 'Flintstone'\n",
        "birthdate = datetime.date(1963, 2, 2)\n",
        "age = datetime.date.today().year - birthdate.year\n",
        "\n",
        "#example:  you + have + to + glue + variables + together + with + a + sign\n",
        "\n",
        "#step 1:  print a greeting including first and last name\n",
        "print('+ String Interpolation allows for concatenation of string types only.')\n",
        "print('Hello, I\\'m ' + firstname + ' ' + lastname + '.')\n",
        "print()\n",
        "\n",
        "#step 2:  print a greeting including first, last, age and birthday\n",
        "try:\n",
        "  print('+ Interpolation works great so long as everything we are using can be called in as a string')\n",
        "  print('Hello, I\\'m ' + firstname + ' ' + lastname + ', and I turned ' + str(age) + ' on ' + birthdate + '.')\n",
        "  print()\n",
        "except Exception as e:\n",
        "  print(f'Exception: {e}')\n",
        "\n",
        "print()\n",
        "\n",
        "#what can't we do?\n",
        "try:\n",
        "  print('+ Interpolation can make use of function results inline.')\n",
        "  print('Hello, I\\'m ' + fullname(firstname, lastname) + ', and I turned ' + age + ' on ' + str(birthdate.month) + ' ' + str(birthdate.day) + '.')\n",
        "  print()\n",
        "except Exception as f:\n",
        "  print(f'Exception: {f}')\n",
        "\n",
        "print()\n"
      ],
      "metadata": {
        "azdata_cell_guid": "7f1f9c66-4d1b-4184-9e8c-7e6d5de8b2e8",
        "language": "python",
        "tags": [],
        "colab": {
          "base_uri": "https://localhost:8080/"
        },
        "id": "S3P5lHy7U_bJ",
        "outputId": "45e14f23-0144-47fb-ac76-6376f575d84f"
      },
      "outputs": [
        {
          "output_type": "stream",
          "name": "stdout",
          "text": [
            "+ String Interpolation allows for concatenation of string types only.\n",
            "Hello, I'm Fred Flintstone.\n",
            "\n",
            "+ Interpolation works great so long as everything we are using can be called in as a string\n",
            "Exception: can only concatenate str (not \"datetime.date\") to str\n",
            "\n",
            "+ Interpolation can make use of function results inline.\n",
            "Exception: can only concatenate str (not \"int\") to str\n",
            "\n"
          ]
        }
      ],
      "execution_count": 43
    },
    {
      "cell_type": "markdown",
      "source": [
        "| Pythonic Usability Checklist | Yes | No |\n",
        "| ------- | --- | -- |\n",
        "| Parametrizes String? | | X |\n",
        "| Readable |  | X |\n",
        "| Terse (Short) | X | |\n",
        "| Handles Multiple Data Types |  | X |"
      ],
      "metadata": {
        "language": "python",
        "azdata_cell_guid": "ad52cb0b-95d4-4379-85d4-96126b127664",
        "id": "OIeio15eU_bL"
      }
    },
    {
      "cell_type": "markdown",
      "source": [
        "# %s formatting\n",
        "\n",
        "This method of string interpolation comes from a **C language** function called [**printf**](https://www.tutorialspoint.com/c_standard_library/c_function_printf.htm).\n",
        "\n",
        "Here's an example of **printf** so that we can revel in the familiarity and disapprove of all of the weird characters (;, {, }):\n",
        "\n",
        "```\n",
        "\n",
        "int main () {\n",
        "   int ch;\n",
        "\n",
        "   for( ch = 75 ; ch <= 100; ch++ ) {\n",
        "      printf(\"ASCII value = %d, Character = %c\\n\", ch , ch );\n",
        "   }\n",
        "\n",
        "   return(0);\n",
        "}\n",
        "\n",
        "```"
      ],
      "metadata": {
        "language": "python",
        "azdata_cell_guid": "6bdc34f0-de50-47da-abba-00193bec94de",
        "id": "dLlONW-eU_bL"
      }
    },
    {
      "cell_type": "code",
      "source": [
        "birthday = birthdate.strftime('%b%e')\n",
        "age = datetime.date.today().year - birthdate.year\n",
        "\n",
        "#example:  'these are words and %s' % 'this is a variable'\n",
        "\n",
        "#step 1:  print a greeting including first and last name\n",
        "print('%s formatting allows for the use of placeholders')\n",
        "print('Hello, I\\'m %s %s.' % (firstname, lastname))\n",
        "print()\n",
        "\n",
        "#step 2:  print a greeting including first, last, age and birthday\n",
        "print('%s formatting allows for parameterization of non-string types')\n",
        "print('Hello, I\\'m %s %s, and I turned %s on %s (my birthday).' % (firstname, lastname, age, birthday))\n",
        "print()\n",
        "\n",
        "#another thing we can do with this formatter is call functions and insert the result.\n",
        "print('%s formatting allows for the use of function results as parameters')\n",
        "print('Hello, I\\'m %s, and I turned %s on %s (my birthday).'\n",
        "% (fullname(firstname, lastname), age, birthday))\n",
        "print()"
      ],
      "metadata": {
        "language": "python",
        "azdata_cell_guid": "6f92d10e-143b-48c3-b1c2-953fed72aba2",
        "tags": [],
        "id": "JiecDVeBU_bM",
        "outputId": "f5281edd-f5d9-4d84-8246-db37a741620e",
        "colab": {
          "base_uri": "https://localhost:8080/"
        }
      },
      "outputs": [
        {
          "output_type": "stream",
          "name": "stdout",
          "text": [
            "%s formatting allows for the use of placeholders\n",
            "Hello, I'm Fred Flintstone.\n",
            "\n",
            "%s formatting allows for parameterization of non-string types\n",
            "Hello, I'm Fred Flintstone, and I turned 61 on Feb 2 (my birthday).\n",
            "\n",
            "%s formatting allows for the use of function results as parameters\n",
            "Hello, I'm Fred Flintstone, and I turned 61 on Feb 2 (my birthday).\n",
            "\n"
          ]
        }
      ],
      "execution_count": 24
    },
    {
      "cell_type": "markdown",
      "source": [
        "| Pythonic Usability Checklist | Yes | No |\n",
        "| ------- | --- | -- |\n",
        "| Parametrizes String? | X |  |\n",
        "| Readable | X | X |\n",
        "| Terse (Short) |  | X |\n",
        "| Handles Multiple Data Types | X  | X |"
      ],
      "metadata": {
        "language": "python",
        "azdata_cell_guid": "43cf4eb2-8a6a-4397-b062-15fc92f419d0",
        "id": "NXbr44gyU_bM"
      }
    },
    {
      "cell_type": "markdown",
      "source": [
        "# String.Template\n",
        "[PEP-292](https://peps.python.org/pep-0292/) This proposal added templates in an attempt to do something simpler than % string interpolation."
      ],
      "metadata": {
        "language": "python",
        "azdata_cell_guid": "56a36218-915d-415a-8b76-70c8d7d1d88c",
        "id": "nzNzy9WqU_bN"
      }
    },
    {
      "cell_type": "code",
      "source": [
        "from string import Template\n",
        "\n",
        "#step 1:  print a greeting including first and last name\n",
        "print('String.Template allows the use of Named Arguments')\n",
        "t1 = Template('Hello, I\\m $firstname $lastname.')\n",
        "print(t1.substitute(firstname=firstname, lastname=lastname))\n",
        "print()\n",
        "\n",
        "print('String.Template accepts non-string variable types')\n",
        "#step 2:  print a greeting including first, last, age and birthday\n",
        "t2 = Template('Hello, I\\'m $firstname $lastname, and I turned $age on $birthday (my birthday).')\n",
        "print(t2.substitute(firstname=firstname, lastname=lastname, age=age, birthday=birthday))\n",
        "print()\n",
        "\n",
        "print('String.Template will accept function results as an Argument')\n",
        "#step 3:  print a greeting including same info, but using the fullname function.\n",
        "t3 = Template('Hello, I\\'m $fullname, and I turned $age on $birthday (my birthday).')\n",
        "print(t3.substitute(fullname=fullname(firstname, lastname), age=age, birthday=birthday))\n",
        "print()"
      ],
      "metadata": {
        "language": "python",
        "azdata_cell_guid": "cd3dd79d-8b2f-40a1-bd7c-b5764f6cf1cd",
        "tags": [],
        "id": "HCapWgHjU_bN",
        "outputId": "9e56f7e3-e546-4bfe-b1b4-7f9e129a6e66",
        "colab": {
          "base_uri": "https://localhost:8080/"
        }
      },
      "outputs": [
        {
          "output_type": "stream",
          "name": "stdout",
          "text": [
            "String.Template allows the use of Named Arguments\n",
            "Hello, I\\m Fred Flintstone.\n",
            "\n",
            "String.Template accepts non-string variable types\n",
            "Hello, I'm Fred Flintstone, and I turned 61 on Feb 2 (my birthday).\n",
            "\n",
            "String.Template will accept function results as an Argument\n",
            "Hello, I'm Fred Flintstone, and I turned 61 on Feb 2 (my birthday).\n",
            "\n"
          ]
        }
      ],
      "execution_count": 44
    },
    {
      "cell_type": "markdown",
      "source": [
        "| Pythonic Usability Checklist | Yes | No |\n",
        "| ------- | --- | -- |\n",
        "| Parametrizes String? | X |  |\n",
        "| Readable | X |  |\n",
        "| Terse (Short) |  | X |\n",
        "| Handles Multiple Data Types | X |  |"
      ],
      "metadata": {
        "language": "python",
        "azdata_cell_guid": "5cb9d9df-16cd-43ed-9454-758e765edf64",
        "id": "OzmYUlkMU_bN"
      }
    },
    {
      "cell_type": "markdown",
      "source": [
        "# String.Format()\n",
        "\n",
        "[PEP-3101](https://peps.python.org/pep-3101/) In the rationale for this enhancement proposal they indicate that the other ways of doing string interpolation lack flexibility."
      ],
      "metadata": {
        "language": "python",
        "azdata_cell_guid": "2997bc38-5fad-461b-b24b-94f87ed729cf",
        "id": "6AmfIVf5U_bO"
      }
    },
    {
      "cell_type": "code",
      "source": [
        "#use string.format for one variable\n",
        "print('String.Format() Allows the Use of Placeholders')\n",
        "print('Hello, I\\'m {}.'.format(firstname))\n",
        "print()\n",
        "\n",
        "#escape the {}?\n",
        "print('String.Format() Allows the use of Curly Braces {{}}')\n",
        "print('Hello, I\\'m {{{}}}.'.format(firstname))\n",
        "print()\n",
        "\n",
        "#escape multiple variables using arbitrary mix of numbers and keywords\n",
        "print('String.Format() Allows the use of Placeholders and/or Named Arguments')\n",
        "print('Hello, I\\'m {0} {lastname}.'.format(firstname, lastname=lastname))\n",
        "print()\n",
        "\n",
        "#escape multiple variables using keywords\n",
        "print('String.Format() Allows the use of Named Arguments')\n",
        "print('Hello, I\\'m {firstname} {lastname}.'.format(firstname=firstname, lastname=lastname))\n",
        "print()\n",
        "\n",
        "#but once we start to get a lot of numbers I might not be able to read my interpolated string code\n",
        "print('String.Format() Allows the use of Numbered Placeholders')\n",
        "print('Hello, I\\'m {0} {1}, and I turned {2} on {3} (my birthday).'\n",
        ".format(firstname, lastname, age, birthday))\n",
        "print()\n",
        "\n",
        "#ahh....this is better....albeit much longer.\n",
        "print('String.Format() Will accept variables that are of non-string type')\n",
        "print('Hello, I\\'m {firstname} {lastname}, and I turned {age} on {birthday} (my birthday).'\n",
        ".format(firstname=firstname, lastname=lastname, age=age, birthday=birthday))\n",
        "print()\n",
        "\n",
        "#now to incorporate that fullname function again.\n",
        "print('String.Format() will accept the result of a function as an Argument')\n",
        "print('Hello, I\\'m *{fullname}*, and I turned {age} on {birthday} (my birthday).'\n",
        ".format(fullname=fullname(firstname, lastname), age=age, birthday=birthday))\n",
        "print()"
      ],
      "metadata": {
        "language": "python",
        "azdata_cell_guid": "8fe0c76f-0ea4-4d4d-adac-86ed0873a618",
        "tags": [],
        "id": "wtVw-cM_U_bO",
        "outputId": "0f79538b-8aa2-4b80-fc82-074eec093f70",
        "colab": {
          "base_uri": "https://localhost:8080/"
        }
      },
      "outputs": [
        {
          "output_type": "stream",
          "name": "stdout",
          "text": [
            "String.Format() Allows the Use of Placeholders\n",
            "Hello, I'm Fred.\n",
            "\n",
            "String.Format() Allows the use of Curly Braces {{}}\n",
            "Hello, I'm {Fred}.\n",
            "\n",
            "String.Format() Allows the use of Placeholders and/or Named Arguments\n",
            "Hello, I'm Fred Flintstone.\n",
            "\n",
            "String.Format() Allows the use of Named Arguments\n",
            "Hello, I'm Fred Flintstone.\n",
            "\n",
            "String.Format() Allows the use of Numbered Placeholders\n",
            "Hello, I'm Fred Flintstone, and I turned 61 on Feb 2 (my birthday).\n",
            "\n",
            "String.Format() Will accept variables that are of non-string type\n",
            "Hello, I'm Fred Flintstone, and I turned 61 on Feb 2 (my birthday).\n",
            "\n",
            "String.Format() will accept the result of a function as an Argument\n",
            "Hello, I'm *Fred Flintstone*, and I turned 61 on Feb 2 (my birthday).\n",
            "\n"
          ]
        }
      ],
      "execution_count": 45
    },
    {
      "cell_type": "markdown",
      "source": [
        "# f-strings, a whole new world\n",
        "\n",
        "[PEP-498](https://peps.python.org/pep-0498/) this f-string implementation combines the best of some previous iterations of string interpolation.\n",
        "\n",
        "```\n",
        "f ' <text> { <expression> <optional !s, !r, or !a> <optional : format specifier> } <text> ... '\n",
        "\n",
        "```\n",
        "\n",
        "Main Features:\n",
        "* Escape Sequences\n",
        "* Code Equivalence with .format()\n",
        "* Expression Evaluation\n",
        "\n",
        "[Python Tutorial at W3Schools](https://www.w3schools.com/python/ref_string_format.asp)\n"
      ],
      "metadata": {
        "language": "python",
        "azdata_cell_guid": "24851187-212e-4a7b-be83-bfc16549a0d7",
        "id": "KqP5oTmHU_bP"
      }
    },
    {
      "cell_type": "code",
      "source": [
        "#use string.format for one variable\n",
        "print(f'Hello, I\\'m {{{firstname}}} {{{lastname}}}.')\n",
        "#step 2:  print a greeting including first, last, age and birthday\n",
        "print(f'Hello, I\\'m {firstname} {lastname}, and I turned {age} on {birthday} (my birthday).')\n",
        "\n",
        "\n",
        "fred = {\n",
        "    \"firstname\": firstname,\n",
        "    \"lastname\": lastname,\n",
        "    \"birthdate\": birthdate,\n",
        "    \"birthday\": birthday,\n",
        "    \"age\": age\n",
        "}\n",
        "#let's do the same thing but with a dictionary notice the \" \" and ' '\n",
        "# f strings allow the use of '' or \"\" depending on how the string is enclosed\n",
        "print('f-strings allow for the use of dictionaries (Using Double Quotes).')\n",
        "print(f'Hello, I\\'m {fred[\"firstname\"]} {fred[\"lastname\"]}, and I turned {fred[\"age\"]} on {fred[\"birthday\"]} (my birthday).')\n",
        "print()\n",
        "\n",
        "print('f-strings allow for the use of dictionaries (using Single Quotes)')\n",
        "print(f\"Hello, I'm {fred['firstname']} {fred['lastname']}, and I turned {fred['age']} on {fred['birthday']} (my birthday).\")\n",
        "print()\n",
        "\n",
        "#let's do some formatting inside of our thing, and maybe some other fancy stuff.\n",
        "print('f-strings allow for some weird formatting jazz')\n",
        "print(f\"Hello, I'm {fullname(fred['firstname'], fred['lastname'])}, and I turned {fred['age']:.1f} on {fred['birthdate']:%b%e} (my birthday).\")\n",
        "print()\n",
        "\n",
        "#some tricks built into the specification !s = str(), !r = repr(), and !a = ascii()\n",
        "print(f'The !s, !r, !a constructions can be included:  {{age!s:}}: {age!s} or {{str(age)}}: {str(age)}')\n",
        "print('F-Strings allow you to reformat your variables on the fly. age!s is equivalent to str(age)')\n",
        "print(f'I could not for the life of me think of a real reason to use lambda expressions, so here it is:  {{(lambda x: x*2)(3)}}: {(lambda x: x*3)(3)}')\n",
        "print()\n"
      ],
      "metadata": {
        "language": "python",
        "azdata_cell_guid": "1628acab-3447-4e54-8e47-a2853a5eb588",
        "tags": [],
        "id": "0Wi61nBdU_bP",
        "outputId": "697217bd-bedc-4532-9aab-2bb8a5d86d04",
        "colab": {
          "base_uri": "https://localhost:8080/"
        }
      },
      "outputs": [
        {
          "output_type": "stream",
          "name": "stdout",
          "text": [
            "Hello, I'm {Fred} {Flintstone}.\n",
            "Hello, I'm Fred Flintstone, and I turned 61 on Feb 2 (my birthday).\n",
            "f-strings allow for the use of dictionaries (Using Double Quotes).\n",
            "Hello, I'm Fred Flintstone, and I turned 61 on Feb 2 (my birthday).\n",
            "\n",
            "f-strings allow for the use of dictionaries (using Single Quotes)\n",
            "Hello, I'm Fred Flintstone, and I turned 61 on Feb 2 (my birthday).\n",
            "\n",
            "f-strings allow for some weird formatting jazz\n",
            "Hello, I'm Fred Flintstone, and I turned 61.0 on Feb 2 (my birthday).\n",
            "\n",
            "The !s, !r, !a constructions can be included:  {age!s:}: 61 or {str(age)}: 61\n",
            "F-Strings allow you to reformat your variables on the fly. age!s is equivalent to str(age)\n",
            "I could not for the life of me think of a real reason to use lambda expressions, so here it is:  {(lambda x: x*2)(3)}: 9\n",
            "\n"
          ]
        }
      ],
      "execution_count": 48
    },
    {
      "cell_type": "markdown",
      "source": [
        "| Pythonic Usability Checklist | Yes | No |\n",
        "| ------- | --- | -- |\n",
        "| Parametrizes String? | X |  |\n",
        "| Readable | X |  |\n",
        "| Terse (Short) | X |  |\n",
        "| Handles Multiple Data Types | X |  |"
      ],
      "metadata": {
        "language": "python",
        "azdata_cell_guid": "ec8a530d-6aae-42a2-80ed-d44ddb2944e2",
        "id": "rvzHAd3AU_bP"
      }
    },
    {
      "cell_type": "markdown",
      "source": [
        "# Here's some other Ideas\n"
      ],
      "metadata": {
        "language": "python",
        "azdata_cell_guid": "ea54fb33-ceab-44d8-95ef-fdf7e3c44ffc",
        "id": "7AkY4waDU_bP"
      }
    },
    {
      "cell_type": "code",
      "source": [
        "import datetime\n",
        "# list of dictionaries about the flintstones, each dict is a family member\n",
        "flintstones = [\n",
        "    {\n",
        "        \"name\": 'Fred',\n",
        "        \"birthdate\": datetime.date(1963, 2, 2),\n",
        "        \"link\": \"https://en.wikipedia.org/wiki/Fred_Flintstone\"\n",
        "    },{\n",
        "        \"name\": 'Wilma',\n",
        "        \"birthdate\": datetime.date(1963, 10, 11),\n",
        "        \"link\": \"https://en.wikipedia.org/wiki/Wilma_Flintstone\"\n",
        "    },{\n",
        "        \"name\": 'Pebbles',\n",
        "        \"birthdate\": datetime.date(1993, 2, 22),\n",
        "        \"link\": \"https://en.wikipedia.org/wiki/Pebbles_Flintstone\"\n",
        "    },{\n",
        "        \"name\": 'Stoney',\n",
        "        \"birthdate\": datetime.date(1985, 12, 31),\n",
        "        \"link\": \"https://flintstones.fandom.com/wiki/Stoney_Flintstone\"\n",
        "    }\n",
        "]\n",
        "\n",
        "for flintstone in flintstones:\n",
        "    age = datetime.date.today().year - flintstone.get(\"birthdate\").year\n",
        "    # this xterm control sequence allows us to make a clickable link inside of the terminal below.\n",
        "    #print(f'Hi, I\\'m {flintstone.get(\"name\")} Flintstone and I\\'m {age} years old. Visit \\x1b]8;;{flintstone.get(\"link\")}\\x1b\\\\the source\\x1b]8;;\\x1b\\\\ to learn more.')\n",
        "    print(f'Hi, I\\'m {flintstone.get(\"name\")} Flintstone and I\\'m {age} years old. Visit {flintstone.get(\"link\")} to learn more.')\n",
        "    print()\n",
        "print('That\\'s all the Flintstones')"
      ],
      "metadata": {
        "language": "python",
        "azdata_cell_guid": "c3975a29-9556-4c60-a5a7-6bb4dff899c4",
        "tags": [],
        "id": "qYyxhzrpU_bQ",
        "colab": {
          "base_uri": "https://localhost:8080/"
        },
        "outputId": "e75a7ac6-ddf8-4cc9-c4a0-05460b0f985f"
      },
      "outputs": [
        {
          "output_type": "stream",
          "name": "stdout",
          "text": [
            "Hi, I'm Fred Flintstone and I'm 61 years old. Visit https://en.wikipedia.org/wiki/Fred_Flintstone to learn more.\n",
            "\n",
            "Hi, I'm Wilma Flintstone and I'm 61 years old. Visit https://en.wikipedia.org/wiki/Wilma_Flintstone to learn more.\n",
            "\n",
            "Hi, I'm Pebbles Flintstone and I'm 31 years old. Visit https://en.wikipedia.org/wiki/Pebbles_Flintstone to learn more.\n",
            "\n",
            "Hi, I'm Stoney Flintstone and I'm 39 years old. Visit https://flintstones.fandom.com/wiki/Stoney_Flintstone to learn more.\n",
            "\n",
            "That's all the Flintstones\n"
          ]
        }
      ],
      "execution_count": 55
    },
    {
      "cell_type": "markdown",
      "source": [
        "# F Strings Can:\n",
        "* can evaluate a raw expression.\n",
        "\n",
        "# F Strings Cannot:  \n",
        "* 'Defer Evaluation' - F strings cannot defer evaluation.  Can't have a dictionary of different f strings, as soon as things are created they are evaluated.  \n",
        "*"
      ],
      "metadata": {
        "language": "python",
        "azdata_cell_guid": "147634f6-fe10-4a26-8266-d937fd4b8c49",
        "id": "jfn_LFMxU_bQ"
      }
    },
    {
      "cell_type": "code",
      "source": [
        "var1 = 'foo'\n",
        "# {} comes from the 'SHELL LANGUAGE'\n",
        "var2 = rf'{var1}\\f\\g\\s\\x\\w\\\\\\''\n",
        "# r'' is raw string\n",
        "# cannot have \\ at end of line\n",
        "# this is different than !r (repr()) in f strings\n",
        "print(f'{var2}')"
      ],
      "metadata": {
        "azdata_cell_guid": "0f69cf41-9958-4f7d-aeef-26d5d0880ed5",
        "language": "python",
        "id": "GiG0Gy0YU_bQ",
        "outputId": "34c9418e-a03d-42ef-869f-84a06a851903",
        "colab": {
          "base_uri": "https://localhost:8080/"
        }
      },
      "outputs": [
        {
          "output_type": "stream",
          "name": "stdout",
          "text": [
            "foo\\f\\g\\s\\x\\w\\\\\\'\n"
          ]
        }
      ],
      "execution_count": 56
    },
    {
      "cell_type": "code",
      "source": [
        "var2 = r'{var1}\\f\\g\\s\\x\\w' + '\\\\'\n",
        "print(var2)\n",
        "\n",
        "print('A proper Windows FilePath')\n",
        "print(r'C:\\my\\long\\filepath')\n",
        "print()\n",
        "\n",
        "print('A normal Filepath in Python / Linux etc.')\n",
        "print('C:/my/long/filepath')\n",
        "print()"
      ],
      "metadata": {
        "language": "python",
        "azdata_cell_guid": "dee3b05e-d217-4155-b047-de8cdfc1893f",
        "id": "N-1RjDyXU_bR",
        "outputId": "d25de69d-b4e9-46f0-c17b-4ff531b072d7",
        "colab": {
          "base_uri": "https://localhost:8080/"
        }
      },
      "outputs": [
        {
          "output_type": "stream",
          "name": "stdout",
          "text": [
            "{var1}\\f\\g\\s\\x\\w\\\n",
            "A proper Windows FilePath\n",
            "C:\\my\\long\\filepath\n",
            "\n",
            "A normal Filepath in Python / Linux etc.\n",
            "C:/my/long/filepath\n",
            "\n"
          ]
        }
      ],
      "execution_count": 58
    },
    {
      "cell_type": "code",
      "source": [
        "foo = ' bob  '\n",
        "print(f'17{foo}')\n",
        "print(f'18{foo!s}')\n",
        "print(f'19{foo!r}')\n",
        "print(f'20{foo!a}') #when repr has characters that are not ASCII, it would replace them with unicode ch\n",
        "print(f'21foo={foo!r}')\n",
        "print(f'22{foo=}') # added in python 3.8 - print the expression literally, and print the repr value."
      ],
      "metadata": {
        "language": "python",
        "azdata_cell_guid": "cd987d83-caa2-4c4f-894c-308271476dd1",
        "id": "we9h3ll3U_bR",
        "outputId": "b7c2112a-b717-4a47-c07d-bf4d4accd3b8"
      },
      "outputs": [
        {
          "output_type": "stream",
          "name": "stdout",
          "text": "17 bob  \n18 bob  \n19' bob  '\n20' bob  '\n21foo=' bob  '\n22foo=' bob  '\n"
        }
      ],
      "execution_count": null
    },
    {
      "cell_type": "code",
      "source": [
        "name = 'Bob'\n",
        "from math import pi\n",
        "age = 45\n",
        "# name is 10 chars left justified, pi is 7 chars, 6 int chars, 5 floating,\n",
        "print(f'{name:<10}  {pi:6.5f} {age!s:>5}')\n",
        "# handy for table command line\n",
        "print(f'{name:<10}  {pi*10000:10,.5f} {age!s:^15}')\n",
        "#by default strings are always left justified\n",
        "#if you were doing age then it would be right justified by default (because it's a number)"
      ],
      "metadata": {
        "language": "python",
        "azdata_cell_guid": "c57c5d63-0c57-480d-a5f7-8e82c04a4226",
        "id": "H8rhbZROU_bS",
        "outputId": "0eda05ca-934a-4096-c3e5-bcc4eacba1cd",
        "colab": {
          "base_uri": "https://localhost:8080/"
        }
      },
      "outputs": [
        {
          "output_type": "stream",
          "name": "stdout",
          "text": [
            "Bob         3.14159    45\n",
            "Bob         31,415.92654       45       \n"
          ]
        }
      ],
      "execution_count": 59
    },
    {
      "cell_type": "code",
      "source": [
        "#arbitrary expressions inside the curley braces\n",
        "print(f'{2+3*5}')\n",
        "print(f'{2+3*5=}')\n",
        "print(f\"{f'this is a nested f string'}\")\n",
        "# john says we are going to do crazy stuff\n",
        "foo = 17\n",
        "variable_name = 'foo'\n",
        "print(f'{f\"{variable_name}\"=}')"
      ],
      "metadata": {
        "language": "python",
        "azdata_cell_guid": "c9000b31-5c75-46f3-8f07-9ac1fca250bb",
        "id": "aSNtlBx2U_bS",
        "outputId": "210339b8-f845-455d-a33a-f1b952e096b7"
      },
      "outputs": [
        {
          "output_type": "stream",
          "name": "stdout",
          "text": "17\n2+3*5=17\nthis is a nested f string\nf\"{variable_name}\"='foo'\n"
        }
      ],
      "execution_count": null
    },
    {
      "cell_type": "code",
      "source": [
        "#building a template for people to use\n",
        "#simple as possible (plug n' play)\n",
        "#final report is cells in excel, with text with embedded values (paragraph per cell)\n",
        "#number of x for x month\n",
        "#the template has to include f strings f'' read in using open py xl, sheet is read as a dictionary\n",
        "#call eval on the dictionary (the same thing but without the f)\n",
        "\n",
        "#a good solution to this might be to read these values into a dictionary\n",
        "#and then call them into a template\n",
        "\n",
        "dict = {\n",
        "    '01-2023':200,\n",
        "    '02-2023':300,\n",
        "    '03-2023':250,\n",
        "    '04-2023':300\n",
        "}\n",
        "\n",
        "print(f'{dict[\"01-2023\"]=}')\n",
        "#or the other way\n",
        "print(f\"{dict['01-2023']=}\")"
      ],
      "metadata": {
        "language": "python",
        "azdata_cell_guid": "9b74aef6-26cc-488c-a68f-1f327d87c37c",
        "id": "2MX-w0czU_bS",
        "outputId": "bcf6e969-c3a4-4a55-c808-5fcea607c91a"
      },
      "outputs": [
        {
          "name": "stdout",
          "text": "dict[\"01-2023\"]=200\ndict['01-2023']=200\n",
          "output_type": "stream"
        }
      ],
      "execution_count": null
    },
    {
      "cell_type": "code",
      "source": [
        "#we can format a date string\n",
        "import datetime\n",
        "today = datetime.datetime.today()\n",
        "print(f'{today:%Y-%m-%d}')"
      ],
      "metadata": {
        "language": "python",
        "azdata_cell_guid": "88658f96-60c0-4396-9112-09b056c1ac76",
        "id": "39SZfWsWU_bT",
        "outputId": "fd041c6d-f81f-4530-f934-51ad3c110795"
      },
      "outputs": [
        {
          "output_type": "stream",
          "name": "stdout",
          "text": "2023-06-26\n"
        }
      ],
      "execution_count": null
    },
    {
      "cell_type": "code",
      "source": [
        "#variable names an values persist from one cell to another.\n",
        "print(today)"
      ],
      "metadata": {
        "language": "python",
        "azdata_cell_guid": "9fb45930-5d97-4359-953d-755eb6375c5b",
        "id": "DF7s-ZVHU_bT",
        "outputId": "7040658e-d284-444f-ed2a-5c77d01a4c54"
      },
      "outputs": [
        {
          "output_type": "stream",
          "name": "stdout",
          "text": "2023-06-26 20:15:13.623983\n"
        }
      ],
      "execution_count": null
    },
    {
      "cell_type": "markdown",
      "source": [
        "Thanks for listening, reading, and accessing."
      ],
      "metadata": {
        "azdata_cell_guid": "f84184f2-90e7-4c8e-a9b5-410c14933e98",
        "id": "IzrUMfR4U_bT"
      }
    }
  ]
}