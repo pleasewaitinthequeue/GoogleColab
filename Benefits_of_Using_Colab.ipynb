{
  "nbformat": 4,
  "nbformat_minor": 0,
  "metadata": {
    "colab": {
      "provenance": [],
      "authorship_tag": "ABX9TyMCNOw7aMXOomJGTEIudneZ",
      "include_colab_link": true
    },
    "kernelspec": {
      "name": "python3",
      "display_name": "Python 3"
    },
    "language_info": {
      "name": "python"
    }
  },
  "cells": [
    {
      "cell_type": "markdown",
      "metadata": {
        "id": "view-in-github",
        "colab_type": "text"
      },
      "source": [
        "<a href=\"https://colab.research.google.com/github/pleasewaitinthequeue/GoogleColab/blob/main/Benefits_of_Using_Colab.ipynb\" target=\"_parent\"><img src=\"https://colab.research.google.com/assets/colab-badge.svg\" alt=\"Open In Colab\"/></a>"
      ]
    },
    {
      "cell_type": "markdown",
      "source": [
        "# CoLab, an Overview"
      ],
      "metadata": {
        "id": "8Q_J_XHWCnPm"
      }
    },
    {
      "cell_type": "markdown",
      "source": [
        "[Product Website](https://colab.google/)\n",
        "\n",
        "##What is it?\n",
        "This tool is a **cloud based notebook manager**. Colab allows anybody to write and execute arbitrary python code through the browser. Colab is a hosted version of Jupyter notebook service that requires no setup to use.  Per [the FAQ Page](https://research.google.com/colaboratory/faq.html):\n",
        "\"Colab works with most major browsers, and is most thoroughly tested with the latest versions of **Chrome, Firefox and Safari**.\"\n",
        "\n",
        "##In the Cloud?\n",
        "Notebooks are shareable in the same way that Google Docs or Google Sheets might be shared. Google drive also saves revision history so that a user can revert changes.  A feature called **sandbox mode** avoids saving revision history automatically so that a User can experiment with the notebook without modifying the original file.  Code is executed in a virtual machine private to your account, and are deleted after they have exceeded their maximum lifetime.  \n",
        "\n",
        "##Details\n",
        "Google Drive notebook and results can be shared independently of each other - go to:\n",
        "**Edit > Notebook settings > Omit code cell output when saving this notebook**\n",
        "\n",
        "Users who receive the notebook are required to recompute results independently if they have not been shared.\n",
        "\n",
        "Notebooks can also be uploaded to Google Colab, or exported from Google Colab in **.ipynb** or **.py** formats.\n",
        "\n",
        "##Large Language Model?\n",
        "Colab has integrated access to the **Gemini** Large Language Model that can be used to generate code or suggestions to improve code within the notebooks.  Ask the Gemini bar on the top right of the screen general questions, or generate code in the code blocks by prompting the LLM.\n",
        "\n"
      ],
      "metadata": {
        "id": "mzwL0WG5V-_f"
      }
    },
    {
      "cell_type": "code",
      "source": [
        "#Start coding or generate with AI"
      ],
      "metadata": {
        "id": "gmHnXbCFBmQF"
      },
      "execution_count": null,
      "outputs": []
    },
    {
      "cell_type": "code",
      "source": [],
      "metadata": {
        "id": "0k96zsH7WaMW"
      },
      "execution_count": null,
      "outputs": []
    },
    {
      "cell_type": "markdown",
      "source": [
        "#Edit >> Notebook Settings\n",
        "Allows the user to select the type of Runtime (Python or R) being used, as well as selecting the type of Cloud Instance being used to compute results.\n",
        "\n",
        "##Where does Compute Come From?\n",
        "**Colab resources are free** but not guaranteed and not unlimited, and the usage limits sometimes fluctuate. Users can opt into ***Colab Pro*** for as little as $9.99 / mo or ***Pay as you Go***. Colab notebooks are stored in a user’s Google Drive, or can be loaded directly from Github or the Local Machine.  Integration with Github can push the Notebooks directly to a Repository or Gist online."
      ],
      "metadata": {
        "id": "-JBYxmgiB7xG"
      }
    }
  ]
}