{
  "nbformat": 4,
  "nbformat_minor": 0,
  "metadata": {
    "colab": {
      "provenance": [],
      "authorship_tag": "ABX9TyMG5TxO2jL1AV6huo9BHhE1",
      "include_colab_link": true
    },
    "kernelspec": {
      "name": "python3",
      "display_name": "Python 3"
    },
    "language_info": {
      "name": "python"
    }
  },
  "cells": [
    {
      "cell_type": "markdown",
      "metadata": {
        "id": "view-in-github",
        "colab_type": "text"
      },
      "source": [
        "<a href=\"https://colab.research.google.com/github/pleasewaitinthequeue/GoogleColab/blob/main/Benefits_of_Using_Colab.ipynb\" target=\"_parent\"><img src=\"https://colab.research.google.com/assets/colab-badge.svg\" alt=\"Open In Colab\"/></a>"
      ]
    },
    {
      "cell_type": "markdown",
      "source": [
        "#Google Colab (Alphabet)\n",
        "\n",
        "[Product Website](https://colab.google/)\n",
        "\n",
        "This tool is a cloud based notebook manager. Colab allows anybody to write and execute arbitrary python code through the browser. Colab is a hosted version of Jupyter notebook service that requires no setup to use.\n",
        "\n",
        "Colab resources are not guaranteed and not unlimited, and the usage limits sometimes fluctuate. Users can opt into Colab Pro for as little as $9.99 / mo or pay as you go. Colab notebooks are stored in a user’s google drive, or can be loaded directly from Github or the Local Machine.  Integration with Github can push the Notebooks directly to a Repository or Gist online.\n",
        "\n",
        "Notebooks are shareable in the same way that Google Docs or Google Sheets might be shared. Google drive also saves revision history so that a user can revert changes.  A feature called \"sandbox mode\" avoids saving revision history automatically so that a User can experiment with the notebook without modifying the original file.\n",
        "\n",
        "Google Drive notebook and results can be shared independently of each other. Users are required to recompute results independently if they have not been shared. Notebooks can also be uploaded to Google Colab, or exported from Google Colab in **.ipynb** or **.py** formats.\n",
        "\n",
        "Colab has integrated access to the **Gemini** Large Language Model that can be used to generate code or suggestions to improve code within the notebooks.  "
      ],
      "metadata": {
        "id": "mzwL0WG5V-_f"
      }
    }
  ]
}