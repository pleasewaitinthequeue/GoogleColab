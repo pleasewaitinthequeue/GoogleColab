{
  "nbformat": 4,
  "nbformat_minor": 0,
  "metadata": {
    "colab": {
      "provenance": [],
      "authorship_tag": "ABX9TyNxKPkQgEXn2hlPvYCxJkkY",
      "include_colab_link": true
    },
    "kernelspec": {
      "name": "python3",
      "display_name": "Python 3"
    },
    "language_info": {
      "name": "python"
    }
  },
  "cells": [
    {
      "cell_type": "markdown",
      "metadata": {
        "id": "view-in-github",
        "colab_type": "text"
      },
      "source": [
        "<a href=\"https://colab.research.google.com/github/pleasewaitinthequeue/GoogleColab/blob/main/Benefits_of_Using_Colab.ipynb\" target=\"_parent\"><img src=\"https://colab.research.google.com/assets/colab-badge.svg\" alt=\"Open In Colab\"/></a>"
      ]
    },
    {
      "cell_type": "markdown",
      "source": [
        "# CoLab, an Overview"
      ],
      "metadata": {
        "id": "8Q_J_XHWCnPm"
      }
    },
    {
      "cell_type": "markdown",
      "source": [
        "[Product Website](https://colab.google/)\n",
        "\n",
        "##What is it?\n",
        "This tool is a **cloud based notebook manager**. Colab allows anybody to write and execute arbitrary python code through the browser. Colab is a hosted version of Jupyter notebook service that requires no setup to use.  Per [the FAQ Page](https://research.google.com/colaboratory/faq.html):\n",
        "\"Colab works with most major browsers, and is most thoroughly tested with the latest versions of **Chrome, Firefox and Safari**.\"\n",
        "\n",
        "##In the Cloud?\n",
        "Notebooks are shareable in the same way that Google Docs or Google Sheets might be shared. Google drive also saves revision history so that a user can revert changes.  A feature called **sandbox mode** avoids saving revision history automatically so that a User can experiment with the notebook without modifying the original file.  Code is executed in a virtual machine private to your account, and are deleted after they have exceeded their maximum lifetime.  \n",
        "\n",
        "##Details\n",
        "Google Drive notebook and results can be shared independently of each other - go to:\n",
        "**Edit > Notebook settings > Omit code cell output when saving this notebook**\n",
        "\n",
        "Users who receive the notebook are required to recompute results independently if they have not been shared.\n",
        "\n",
        "Notebooks can also be uploaded to Google Colab, or exported from Google Colab in **.ipynb** or **.py** formats.\n",
        "\n",
        "##Large Language Model?\n",
        "Colab has integrated access to the **Gemini** Large Language Model that can be used to generate code or suggestions to improve code within the notebooks.  Ask the Gemini bar on the top right of the screen general questions, or generate code in the code blocks by prompting the LLM.\n",
        "\n"
      ],
      "metadata": {
        "id": "mzwL0WG5V-_f"
      }
    },
    {
      "cell_type": "code",
      "source": [
        "#Start coding or generate with AI"
      ],
      "metadata": {
        "id": "gmHnXbCFBmQF"
      },
      "execution_count": null,
      "outputs": []
    },
    {
      "cell_type": "code",
      "source": [],
      "metadata": {
        "id": "0k96zsH7WaMW"
      },
      "execution_count": null,
      "outputs": []
    },
    {
      "cell_type": "markdown",
      "source": [
        "#Edit >> Notebook Settings\n",
        "Allows the user to select the type of Runtime (Python or R) being used, as well as selecting the type of Cloud Instance being used to compute results.\n",
        "\n",
        "##Where does Compute Come From?\n",
        "**Colab resources are free** but not guaranteed and not unlimited, and the usage limits sometimes fluctuate. Users can opt into ***Colab Pro*** for as little as $9.99 / mo or ***Pay as you Go***. Colab notebooks are stored in a user’s Google Drive, or can be loaded directly from Github or the Local Machine.  Integration with Github can push the Notebooks directly to a Repository or Gist online."
      ],
      "metadata": {
        "id": "-JBYxmgiB7xG"
      }
    },
    {
      "cell_type": "code",
      "source": [
        "# prompt: how do you write a quick sort\n",
        "\n",
        "def quick_sort(arr):\n",
        "  if len(arr) < 2:\n",
        "    return arr\n",
        "  pivot = arr[0]\n",
        "  less = [x for x in arr[1:] if x <= pivot]\n",
        "  greater = [x for x in arr[1:] if x > pivot]\n",
        "  return quick_sort(less) + [pivot] + quick_sort(greater)\n"
      ],
      "metadata": {
        "id": "Dw2GORJctvab"
      },
      "execution_count": null,
      "outputs": []
    },
    {
      "cell_type": "code",
      "source": [
        "# prompt: write a function that will return all prime numbers between 1000 and 1100\n",
        "\n",
        "def is_prime(n):\n",
        "  if n <= 1:\n",
        "    return False\n",
        "  for i in range(2, int(n ** 0.5) + 1):\n",
        "    if n % i == 0:\n",
        "      return False\n",
        "  return True\n",
        "\n",
        "def get_primes_between(start, end):\n",
        "  primes = []\n",
        "  for num in range(start, end + 1):\n",
        "    if is_prime(num):\n",
        "      primes.append(num)\n",
        "  return primes\n",
        "\n",
        "primes_list = get_primes_between(1000, 1100)\n",
        "print(primes_list)\n"
      ],
      "metadata": {
        "colab": {
          "base_uri": "https://localhost:8080/"
        },
        "id": "VMMIhMgTuDSh",
        "outputId": "b9ab06a7-b7bc-4802-c064-9d1a2fa0b395"
      },
      "execution_count": null,
      "outputs": [
        {
          "output_type": "stream",
          "name": "stdout",
          "text": [
            "[1009, 1013, 1019, 1021, 1031, 1033, 1039, 1049, 1051, 1061, 1063, 1069, 1087, 1091, 1093, 1097]\n"
          ]
        }
      ]
    },
    {
      "cell_type": "code",
      "source": [
        "# prompt: what colors do vegetables come in?\n",
        "\n",
        "print(\"Vegetables come in a variety of colors, including:\")\n",
        "print(\"- Green: spinach, kale, broccoli, cucumbers\")\n",
        "print(\"- Red: tomatoes, red peppers, radishes\")\n",
        "print(\"- Orange: carrots, sweet potatoes, pumpkins\")\n",
        "print(\"- Yellow: corn, squash, yellow peppers\")\n",
        "print(\"- Purple: eggplant, purple cabbage, beets\")\n",
        "print(\"- White: onions, garlic, cauliflower\")\n",
        "print(\"And many more!\")\n"
      ],
      "metadata": {
        "id": "5Vhb_AgIu5UW"
      },
      "execution_count": null,
      "outputs": []
    },
    {
      "cell_type": "code",
      "source": [
        "# prompt: can you optimize the isprime function from an earlier prompt?\n",
        "\n",
        "def is_prime(n):\n",
        "  if n <= 1:\n",
        "    return False\n",
        "  if n <= 3:\n",
        "    return True\n",
        "  if n % 2 == 0 or n % 3 == 0:\n",
        "    return False\n",
        "  i = 5\n",
        "  while i * i <= n:\n",
        "    if n % i == 0 or n % (i + 2) == 0:\n",
        "      return False\n",
        "    i += 6\n",
        "  return True\n"
      ],
      "metadata": {
        "id": "QjUi1kfbvJHC"
      },
      "execution_count": null,
      "outputs": []
    },
    {
      "cell_type": "code",
      "source": [
        "# prompt: use get_primes_between to generate a list of prime numbers between 500 and 600\n",
        "\n",
        "primes_list = get_primes_between(500, 600)\n",
        "print(primes_list)\n"
      ],
      "metadata": {
        "colab": {
          "base_uri": "https://localhost:8080/"
        },
        "id": "t6L3HrPnvaZ_",
        "outputId": "cb1da5d3-e7a1-41ec-cd53-e5dc89dceec5"
      },
      "execution_count": null,
      "outputs": [
        {
          "output_type": "stream",
          "name": "stdout",
          "text": [
            "[503, 509, 521, 523, 541, 547, 557, 563, 569, 571, 577, 587, 593, 599]\n"
          ]
        }
      ]
    },
    {
      "cell_type": "code",
      "source": [
        "import this"
      ],
      "metadata": {
        "colab": {
          "base_uri": "https://localhost:8080/"
        },
        "id": "U54xogO2y-pr",
        "outputId": "27534add-412b-4ab6-c52b-7b6fc2e18d9d"
      },
      "execution_count": 5,
      "outputs": [
        {
          "output_type": "stream",
          "name": "stdout",
          "text": [
            "The Zen of Python, by Tim Peters\n",
            "\n",
            "Beautiful is better than ugly.\n",
            "Explicit is better than implicit.\n",
            "Simple is better than complex.\n",
            "Complex is better than complicated.\n",
            "Flat is better than nested.\n",
            "Sparse is better than dense.\n",
            "Readability counts.\n",
            "Special cases aren't special enough to break the rules.\n",
            "Although practicality beats purity.\n",
            "Errors should never pass silently.\n",
            "Unless explicitly silenced.\n",
            "In the face of ambiguity, refuse the temptation to guess.\n",
            "There should be one-- and preferably only one --obvious way to do it.\n",
            "Although that way may not be obvious at first unless you're Dutch.\n",
            "Now is better than never.\n",
            "Although never is often better than *right* now.\n",
            "If the implementation is hard to explain, it's a bad idea.\n",
            "If the implementation is easy to explain, it may be a good idea.\n",
            "Namespaces are one honking great idea -- let's do more of those!\n"
          ]
        }
      ]
    },
    {
      "cell_type": "code",
      "source": [
        "import antigravity"
      ],
      "metadata": {
        "id": "MS4fkIPwzEB2"
      },
      "execution_count": 8,
      "outputs": []
    },
    {
      "cell_type": "code",
      "source": [
        "# from __future__ import braces # Syntax error; this is a joke in the Python community"
      ],
      "metadata": {
        "colab": {
          "base_uri": "https://localhost:8080/",
          "height": 110
        },
        "id": "Ur-vS9pnzQ0W",
        "outputId": "e71e71a9-77eb-4d21-9379-86cf3519696c"
      },
      "execution_count": 11,
      "outputs": [
        {
          "output_type": "error",
          "ename": "SyntaxError",
          "evalue": "not a chance (<ipython-input-11-6d5c5b2f0daf>, line 1)",
          "traceback": [
            "\u001b[0;36m  File \u001b[0;32m\"<ipython-input-11-6d5c5b2f0daf>\"\u001b[0;36m, line \u001b[0;32m1\u001b[0m\n\u001b[0;31m    from __future__ import braces\u001b[0m\n\u001b[0m    ^\u001b[0m\n\u001b[0;31mSyntaxError\u001b[0m\u001b[0;31m:\u001b[0m not a chance\n"
          ]
        }
      ]
    }
  ]
}